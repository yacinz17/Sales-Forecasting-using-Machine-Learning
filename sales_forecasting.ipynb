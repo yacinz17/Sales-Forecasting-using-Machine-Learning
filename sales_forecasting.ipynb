{
 "cells": [
  {
   "cell_type": "markdown",
   "id": "333a3a09",
   "metadata": {},
   "source": [
    "# Sales Forecasting (Regression)\n",
    "\n",
    "**Overview:**\n",
    "- Dataset: retail sales dataset from Kaggle (or any time-series CSV)\n",
    "- Steps: download → load → EDA → feature engineering → train regression model → evaluate\n"
   ]
  },
  {
   "cell_type": "code",
   "execution_count": null,
   "id": "1b28854e",
   "metadata": {},
   "outputs": [],
   "source": [
    "# Kaggle download (run if kaggle.json available)\n",
    "# kaggle datasets download -d <dataset> -p ./data --unzip\n",
    "\n",
    "import os\n",
    "os.makedirs('data', exist_ok=True)\n",
    "print('Place sales dataset CSV in ./data (e.g., sales.csv)')\n"
   ]
  },
  {
   "cell_type": "code",
   "execution_count": null,
   "id": "7ab523bf",
   "metadata": {},
   "outputs": [],
   "source": [
    "import pandas as pd\n",
    "import numpy as np\n",
    "from sklearn.model_selection import train_test_split\n",
    "from sklearn.ensemble import RandomForestRegressor\n",
    "from sklearn.metrics import mean_squared_error, r2_score\n",
    "\n",
    "# Fallback: create a small synthetic time-series dataset if no CSV provided\n",
    "csv_path = 'data/sales.csv'\n",
    "if not os.path.exists(csv_path):\n",
    "    print('No sales.csv found — creating synthetic dataset for demo')\n",
    "    dates = pd.date_range(start='2018-01-01', periods=500, freq='D')\n",
    "    sales = (np.sin(np.arange(len(dates))/50) * 200 + 1000 + np.random.randn(len(dates))*50).astype(int)\n",
    "    df = pd.DataFrame({'date': dates, 'sales': sales})\n",
    "else:\n",
    "    df = pd.read_csv(csv_path, parse_dates=['date'])\n",
    "\n",
    "# Quick feature engineering\n",
    "if 'date' in df.columns:\n",
    "    df['day'] = df['date'].dt.day\n",
    "n_lags = 7\n",
    "for lag in range(1, n_lags+1):\n",
    "    df[f'lag_{lag}'] = df['sales'].shift(lag)\n",
    "\n",
    "df = df.dropna().reset_index(drop=True)\n",
    "X = df[[f'lag_{lag}' for lag in range(1, n_lags+1)]]\n",
    "y = df['sales']\n",
    "X_train, X_test, y_train, y_test = train_test_split(X, y, test_size=0.2, shuffle=False)\n",
    "\n",
    "model = RandomForestRegressor(n_estimators=100, random_state=42)\n",
    "model.fit(X_train, y_train)\n",
    "pred = model.predict(X_test)\n",
    "print('RMSE:', mean_squared_error(y_test, pred, squared=False))\n",
    "print('R2:', r2_score(y_test, pred))\n"
   ]
  },
  {
   "cell_type": "markdown",
   "id": "1f11b82a",
   "metadata": {},
   "source": [
    "## Notes\n",
    "- Replace synthetic data by placing your Kaggle CSV at `data/sales.csv`.\n",
    "- For better forecasting, explore ARIMA, Prophet, or LSTM-based models.\n"
   ]
  }
 ],
 "metadata": {},
 "nbformat": 4,
 "nbformat_minor": 5
}
